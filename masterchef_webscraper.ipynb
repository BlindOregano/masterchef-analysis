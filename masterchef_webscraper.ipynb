{
 "cells": [
  {
   "cell_type": "code",
   "execution_count": 108,
   "id": "a122a74a-cdbe-409a-bb6e-63bd7c6f992a",
   "metadata": {},
   "outputs": [],
   "source": [
    "import pandas as pd\n",
    "import numpy as np\n",
    "from bs4 import BeautifulSoup\n",
    "import requests\n",
    "import re\n",
    "import json"
   ]
  },
  {
   "cell_type": "code",
   "execution_count": 92,
   "id": "50c02ee2-cb52-4c69-b578-d1bebdfc09cf",
   "metadata": {},
   "outputs": [],
   "source": [
    "def get_legend(soup: list) -> dict:\n",
    "    legend = soup.find_all('dl')\n",
    "    legend_items = legend[0].find_all('dd')\n",
    "    legend_dict = {}\n",
    "    for item in legend_items:\n",
    "        color = str(item).split('background-color:')[1].split(';')[0]\n",
    "        phrase = item.text.split('(')[1].split(')')\n",
    "        key = color + '-' + phrase[0].strip()\n",
    "        desc = phrase[1]\n",
    "        legend_dict[key] = desc.strip()\n",
    "    return legend_dict"
   ]
  },
  {
   "cell_type": "code",
   "execution_count": 93,
   "id": "16341c62-846c-4e69-8575-0c6e00f39305",
   "metadata": {},
   "outputs": [],
   "source": [
    "def get_names(people_table: list) -> list:\n",
    "    name_list = []\n",
    "    rows = people_table.find_all('tr')\n",
    "    for row in rows:\n",
    "        cells = row.find_all('td')\n",
    "        if len(cells) == 0:\n",
    "            continue\n",
    "        name = cells[0].text.replace('[', '').replace(']', '')\n",
    "        name = re.sub('\\d', '', name)\n",
    "        name_list.append(name.strip())\n",
    "    return name_list"
   ]
  },
  {
   "cell_type": "code",
   "execution_count": 102,
   "id": "5794a3d6-53c8-43d1-a35e-b9fbd57a0b7e",
   "metadata": {},
   "outputs": [],
   "source": [
    "def get_homes(people_table: list) -> list:\n",
    "    home_list = []\n",
    "    rows = people_table.find_all('tr')\n",
    "    for row in rows:\n",
    "        cells = row.find_all('td')\n",
    "        if len(cells) == 0:\n",
    "            continue\n",
    "        home = cells[2].text.strip()\n",
    "        home_list.append(home)\n",
    "    return home_list"
   ]
  },
  {
   "cell_type": "code",
   "execution_count": 100,
   "id": "c6b21afb-21e5-4c4a-b4c6-b7cc67d51a1e",
   "metadata": {},
   "outputs": [],
   "source": [
    "def get_ages(people_table: list) -> list:\n",
    "    age_list = []\n",
    "    rows = people_table.find_all('tr')\n",
    "    for row in rows:\n",
    "        cells = row.find_all('td')\n",
    "        if len(cells) == 0:\n",
    "            continue\n",
    "        age = int(cells[1].text.strip())\n",
    "        age_list.append(age)\n",
    "    return age_list"
   ]
  },
  {
   "cell_type": "code",
   "execution_count": 104,
   "id": "6dd50f62-d92c-4387-841d-5fdd47c0ca8e",
   "metadata": {},
   "outputs": [],
   "source": [
    "def get_occupations(people_table: list) -> list:\n",
    "    occ_list = []\n",
    "    rows = people_table.find_all('tr')\n",
    "    for row in rows:\n",
    "        cells = row.find_all('td')\n",
    "        if len(cells) == 0:\n",
    "            continue\n",
    "        occ = cells[3].text.strip()\n",
    "        occ_list.append(occ)\n",
    "    return occ_list"
   ]
  },
  {
   "cell_type": "code",
   "execution_count": 198,
   "id": "d9be67fd-5df5-430a-a646-eba1fff8ac66",
   "metadata": {
    "scrolled": true
   },
   "outputs": [],
   "source": [
    "def get_evaluations(evaluation_table: list) -> list:\n",
    "    rows = evaluation_table.find_all('tr')\n",
    "    rowspan_outer = []\n",
    "    hist_list_outer = []\n",
    "    for row in rows:\n",
    "        hist_list = []\n",
    "        cells = row.find_all('td')\n",
    "        if len(cells) == 0:\n",
    "            continue\n",
    "        #print(cells)\n",
    "        is_chef = False\n",
    "        for name in name_list:\n",
    "            name_split = name.replace('\"', '').split(' ')\n",
    "            #print(name_split[0])\n",
    "            #print(cells[0].text)\n",
    "            if cells[0].text.strip().split(' ')[0] in name_split:\n",
    "                is_chef = True\n",
    "                break\n",
    "        if not is_chef:\n",
    "            continue\n",
    "        c_name = cells[0].text.strip()\n",
    "        for i, eval in enumerate(cells[1:]):\n",
    "            # print(i, ' ', eval)\n",
    "            if eval.text.strip() == 'IN':\n",
    "                color = 'white'\n",
    "            elif 'darkgrey' in str(eval):\n",
    "                continue\n",
    "            elif ';' in str(eval):\n",
    "                # print(str(eval).lower().split('background:'))\n",
    "                color = str(eval).lower().split('background:')[1].split(';')[0]\n",
    "            else:\n",
    "                color = str(eval).lower().split('background:')[1].split('\"')[0]\n",
    "            phrase = eval.text.strip()\n",
    "            key = color + '-' + phrase \n",
    "            hist_list.append(key)\n",
    "            \n",
    "            if len(rowspan_outer) > 0:\n",
    "                #print(i, ' ', eval)\n",
    "                for j, span in enumerate(rowspan_outer):\n",
    "                    #print(j, ' ', span)\n",
    "                    if i+1 == span[0]:\n",
    "                        #print('MATCH')\n",
    "                        key = span[1]\n",
    "                        span[2] -= 1\n",
    "                        hist_list.append(key)\n",
    "                        #print(rowspan_outer)\n",
    "                        if span[2] == 0:\n",
    "                            rowspan_outer.pop(j)\n",
    "                        \n",
    "                        #print(rowspan_outer)\n",
    "            if 'rowspan=\"' in str(eval):\n",
    "                span = [i, key, int(str(eval).split('rowspan=\"')[1].split('\"')[0].strip())-1]\n",
    "                rowspan_outer.append(span)\n",
    "        # print(c_name + ': ', hist_list)\n",
    "        hist_list_outer.append(hist_list)\n",
    "    return hist_list_outer\n",
    "    "
   ]
  },
  {
   "cell_type": "code",
   "execution_count": 202,
   "id": "a7028b24-28c6-472c-ae71-0f451829d68f",
   "metadata": {
    "scrolled": true
   },
   "outputs": [
    {
     "name": "stdout",
     "output_type": "stream",
     "text": [
      "1\n",
      "2\n",
      "3\n",
      "4\n",
      "5\n",
      "6\n",
      "7\n",
      "8\n",
      "9\n",
      "10\n",
      "11\n",
      "12\n",
      "13\n"
     ]
    }
   ],
   "source": [
    "leg_list = []\n",
    "dta_list = []\n",
    "for season in range(1, 14):\n",
    "    r = requests.get(f'https://en.wikipedia.org/wiki/MasterChef_(American_season_{season})')\n",
    "    soup = BeautifulSoup(r.text, 'html.parser')\n",
    "    tables = soup.find_all('table', 'wikitable')\n",
    "    name_list = get_names(tables[0])\n",
    "    age_list = get_ages(tables[0])\n",
    "    home_list = get_homes(tables[0])\n",
    "    occ_list = get_occupations(tables[0])\n",
    "    hist_list = get_evaluations(tables[1])\n",
    "    print(season)\n",
    "    for i in range(len(name_list)):\n",
    "        dta_list.append({'season':season, 'name': name_list[i], 'age': age_list[i], 'home':home_list[i], 'occupation':occ_list[i], 'evaluations':hist_list[i]})\n",
    "    legend_dict = get_legend(soup=soup)\n",
    "    leg_list.append({'season':season, 'legend':legend_dict})\n",
    "        \n",
    "# dta_list"
   ]
  },
  {
   "cell_type": "code",
   "execution_count": 200,
   "id": "51d6965a-e2b0-46d6-bcb9-42024227b308",
   "metadata": {},
   "outputs": [],
   "source": [
    "with open(\"masterchef_us.json\", \"w\") as fp:\n",
    "    json.dump(dta_list, fp)"
   ]
  },
  {
   "cell_type": "code",
   "execution_count": 203,
   "id": "327c32fb-7fde-4e97-a282-b8c148b07dbd",
   "metadata": {},
   "outputs": [],
   "source": [
    "with open(\"masterchef_us_legends.json\", \"w\") as fp:\n",
    "    json.dump(leg_list, fp)"
   ]
  },
  {
   "cell_type": "code",
   "execution_count": null,
   "id": "566e85d6-a91b-4b79-a8e0-6552c8ea772b",
   "metadata": {},
   "outputs": [],
   "source": []
  }
 ],
 "metadata": {
  "kernelspec": {
   "display_name": "Python 3 (ipykernel)",
   "language": "python",
   "name": "python3"
  },
  "language_info": {
   "codemirror_mode": {
    "name": "ipython",
    "version": 3
   },
   "file_extension": ".py",
   "mimetype": "text/x-python",
   "name": "python",
   "nbconvert_exporter": "python",
   "pygments_lexer": "ipython3",
   "version": "3.9.0"
  }
 },
 "nbformat": 4,
 "nbformat_minor": 5
}
