{
 "cells": [
  {
   "cell_type": "code",
   "execution_count": 1,
   "id": "a122a74a-cdbe-409a-bb6e-63bd7c6f992a",
   "metadata": {},
   "outputs": [],
   "source": [
    "import pandas as pd\n",
    "import numpy as np\n",
    "from bs4 import BeautifulSoup\n",
    "import requests\n",
    "import re\n",
    "import json"
   ]
  },
  {
   "cell_type": "code",
   "execution_count": 96,
   "id": "50c02ee2-cb52-4c69-b578-d1bebdfc09cf",
   "metadata": {},
   "outputs": [],
   "source": [
    "def get_legend(leg_table: list, season: int) -> dict:\n",
    "    legend_dict = {}    \n",
    "    if season < 5:\n",
    "        leg_rows = leg_table.find_all('tr')\n",
    "\n",
    "        for row in leg_rows:\n",
    "            legend_items = row.find_all('td')\n",
    "            for item in legend_items:\n",
    "                # print(item)\n",
    "                color = str(item).split('background-color:')[1].split(';')[0]\n",
    "                desc = item.text.strip()\n",
    "                legend_dict[color] = desc\n",
    "    \n",
    "    else:\n",
    "        leg_cols = leg_table.find_all('div', 'plainlist')\n",
    "        for col in leg_cols:\n",
    "            legend_items = col.find_all('li')\n",
    "            for item in legend_items:\n",
    "                color = str(item).split('background-color:')[1].split(';')[0]\n",
    "                desc = item.text.strip()\n",
    "                legend_dict[color] = desc\n",
    "    # legend_items = legend[0].find_all('dd')\n",
    "\n",
    "    # for item in legend_items:\n",
    "    #     color = str(item).split('background-color:')[1].split(';')[0]\n",
    "    #     phrase = item.text.split('(')[1].split(')')\n",
    "    #     key = color + '-' + phrase[0].strip()\n",
    "    #     desc = phrase[1]\n",
    "    #     legend_dict[key] = desc.strip()\n",
    "    return legend_dict"
   ]
  },
  {
   "cell_type": "code",
   "execution_count": 123,
   "id": "16341c62-846c-4e69-8575-0c6e00f39305",
   "metadata": {},
   "outputs": [],
   "source": [
    "def get_names(people_table: list) -> list:\n",
    "    name_list = []\n",
    "    rows = people_table.find_all('tr')\n",
    "    for row in rows:\n",
    "        cells = row.find_all('td')\n",
    "        if len(cells) == 0:\n",
    "            continue\n",
    "        elif 'Returned' in cells[0].text:\n",
    "            continue\n",
    "        name = cells[0].text.replace('[', '').replace(']', '').split('Returned')[0]\n",
    "        name = re.sub('\\d', '', name)\n",
    "        name_list.append(name.strip())\n",
    "    return name_list"
   ]
  },
  {
   "cell_type": "code",
   "execution_count": 81,
   "id": "5794a3d6-53c8-43d1-a35e-b9fbd57a0b7e",
   "metadata": {},
   "outputs": [],
   "source": [
    "def get_homes(people_table: list) -> list:\n",
    "    home_list = []\n",
    "    rows = people_table.find_all('tr')\n",
    "    for row in rows:\n",
    "        cells = row.find_all('td')\n",
    "        if len(cells) == 0:\n",
    "            continue\n",
    "        home = cells[2].text.strip()\n",
    "        home_list.append(home)\n",
    "    return home_list"
   ]
  },
  {
   "cell_type": "code",
   "execution_count": 82,
   "id": "c6b21afb-21e5-4c4a-b4c6-b7cc67d51a1e",
   "metadata": {},
   "outputs": [],
   "source": [
    "def get_ages(people_table: list) -> list:\n",
    "    age_list = []\n",
    "    rows = people_table.find_all('tr')\n",
    "    for row in rows:\n",
    "        cells = row.find_all('td')\n",
    "        if len(cells) == 0:\n",
    "            continue\n",
    "        # print(cells[1].text.strip())\n",
    "        age = int(cells[1].text.strip().split('-')[0])\n",
    "        age_list.append(age)\n",
    "    return age_list"
   ]
  },
  {
   "cell_type": "code",
   "execution_count": 83,
   "id": "6dd50f62-d92c-4387-841d-5fdd47c0ca8e",
   "metadata": {},
   "outputs": [],
   "source": [
    "def get_occupations(people_table: list) -> list:\n",
    "    occ_list = []\n",
    "    rows = people_table.find_all('tr')\n",
    "    for row in rows:\n",
    "        cells = row.find_all('td')\n",
    "        if len(cells) == 0:\n",
    "            continue\n",
    "        if people_table.find_all(\"tr\")[0].find_all(\"th\")[3].text.strip() == 'Previous Occupation':\n",
    "            occ = cells[4].text.strip()\n",
    "        else:\n",
    "            occ = cells[3].text.strip()\n",
    "        occ_list.append(occ)\n",
    "    return occ_list"
   ]
  },
  {
   "cell_type": "code",
   "execution_count": 127,
   "id": "d9be67fd-5df5-430a-a646-eba1fff8ac66",
   "metadata": {
    "scrolled": true
   },
   "outputs": [],
   "source": [
    "def get_evaluations(evaluation_table: list) -> list:\n",
    "    rows = evaluation_table.find_all('tr')\n",
    "    rowspan_outer = []\n",
    "    hist_list_outer = []\n",
    "    for row in rows:\n",
    "        hist_list = []\n",
    "        cells = row.find_all('td')\n",
    "        if len(cells) == 0:\n",
    "            continue\n",
    "        #print(cells)\n",
    "        is_chef = False\n",
    "        for name in name_list:\n",
    "            name_split = name.replace('\"', '').replace('Returned', ' ').split(' ')\n",
    "            # print(name_split[0])\n",
    "            # print(cells)\n",
    "            # print(cells[0].text)\n",
    "            test_name = cells[0].text.strip().split(' ')[0]\n",
    "            # print(test_name)\n",
    "            if cells[0].text.strip().split(' ')[0] in name_split:    # master chef usa (name)\n",
    "                is_chef = True\n",
    "                break\n",
    "            if test_name in name_split:     # masterchef canada(name)\n",
    "                is_chef = True\n",
    "                break\n",
    "        if not is_chef:\n",
    "            # print('Not chef')\n",
    "            continue\n",
    "        # c_name = cells[0].text.strip()      # masterchef usa\n",
    "        c_name = test_name    # masterchef canada\n",
    "        \n",
    "        for i, eval in enumerate(cells[1:]):   # usa start from 1, canada start from 0\n",
    "            # print(i, ' ', eval)\n",
    "            if eval.text.strip() == 'IN':\n",
    "                color = 'white'\n",
    "            elif 'darkgrey' in str(eval) or 'CCCCCC' in str(eval) or 'A9A9A9' in str(eval):\n",
    "                continue\n",
    "            else:\n",
    "                color = str(eval).lower().split('bgcolor=\"')[1].split('\"')[0]\n",
    "            phrase = eval.text.strip()\n",
    "            key = color + '-' + phrase \n",
    "            hist_list.append(key)\n",
    "            \n",
    "            if len(rowspan_outer) > 0:\n",
    "                #print(i, ' ', eval)\n",
    "                for j, span in enumerate(rowspan_outer):\n",
    "                    #print(j, ' ', span)\n",
    "                    if i+1 == span[0]:\n",
    "                        #print('MATCH')\n",
    "                        key = span[1]\n",
    "                        span[2] -= 1\n",
    "                        hist_list.append(key)\n",
    "                        #print(rowspan_outer)\n",
    "                        if span[2] == 0:\n",
    "                            rowspan_outer.pop(j)\n",
    "                        \n",
    "                        #print(rowspan_outer)\n",
    "            if 'rowspan=\"' in str(eval):\n",
    "                span = [i, key, int(str(eval).split('rowspan=\"')[1].split('\"')[0].strip())-1]\n",
    "                rowspan_outer.append(span)\n",
    "        # print(c_name + ': ', hist_list)\n",
    "        hist_list_outer.append(hist_list)\n",
    "    return hist_list_outer\n",
    "    "
   ]
  },
  {
   "cell_type": "code",
   "execution_count": 125,
   "id": "e6d30dcb-afe3-45ee-867c-45a66c66f5f5",
   "metadata": {
    "scrolled": true
   },
   "outputs": [
    {
     "name": "stdout",
     "output_type": "stream",
     "text": [
      "5\n",
      "Elisa:  ['white-IN', '6495ed-HIGH', '959ffd-WIN', 'white-IN', '6495ed-HIGH', '959ffd-WIN', 'ff35f3-LOW', 'ffa500-LOW', '6495ed-HIGH', 'white-IN', '6495ed-HIGH', 'ff35f3-LOW', '32cd32-WIN', '32cd32-WIN', 'white-IN', '6495ed-HIGH', '32cd32-WIN', 'white-IN', '32cd32-WIN', 'white-IN', '32cd32-WIN', '32cd32-WIN', 'ffd700-WINNER']\n",
      "Helena:  ['white-IN', 'white-IN', '959ffd-WIN', 'ff35f3-LOW', 'white-IN', '959ffd-WIN', 'white-IN', '6495ed-HIGH', '32cd32-WIN', '6495ed-HIGH', 'ffc0cb-LOW', '6495ed-HIGH', 'white-IN', '959ffd-WIN', 'white-IN', 'ffa500-LOW', '959ffd-WIN', '6495ed-HIGH', 'ffa500-LOW', '32cd32-WIN', 'ffff00-IMM', 'ffa500-LOW']\n",
      "Luis:  ['white-IN', '6495ed-HIGH', '32cd32-WIN', 'white-IN', 'white-IN', 'ffe4e1-PT', 'white-IN', '6495ed-HIGH', 'ffc0cb-LOW', 'ffc0cb-LOW', 'ffa500-LOW', '32cd32-WIN', 'ffff00-IMM', 'ffa500-LOW', 'white-IN', '32cd32-WIN', '959ffd-WIN', 'white-IN', 'ffc0cb-LOW', '6495ed-HIGH', 'ffa500-LOW', 'dc143c-ELIM']\n",
      "Mohamad:  ['ff35f3-LOW', 'white-IN', '959ffd-WIN', 'ff35f3-LOW', 'ffa500-LOW', 'ffa500-LOW', '6495ed-HIGH', 'ffff00-IMM', 'ffa500-LOW', 'white-IN', '959ffd-WIN', 'ff35f3-LOW', 'white-IN', '959ffd-WIN', '6495ed-HIGH', 'ffff00-IMM', '959ffd-WIN', '32cd32-WIN', 'ffff00-IMM', 'white-IN', 'dc143c-ELIM']\n",
      "Jaime:  ['ff35f3-LOW', 'white-IN', '959ffd-WIN', 'white-IN', '6495ed-HIGH', '959ffd-WIN', '6495ed-HIGH', 'ffff00-IMM', '959ffd-WIN', 'white-IN', '959ffd-WIN', 'white-IN', '6495ed-HIGH', '959ffd-WIN', 'white-IN', '6495ed-HIGH', 'ffa500-LOW', 'white-IN', 'dc143c-ELIM']\n",
      "Cecilia:  ['32cd32-WIN', 'ffff00-IMM', '959ffd-WIN', '6495ed-HIGH', 'ffff00-IMM', '959ffd-WIN', 'ff35f3-LOW', 'ffc0cb-LOW', '959ffd-WIN', '32cd32-WIN', '959ffd-WIN', '6495ed-HIGH', 'ffa500-LOW', '959ffd-WIN', '32cd32-WIN', 'ffff00-IMM', 'dc143c-ELIM']\n",
      "Flavio:  ['white-IN', 'white-IN', '959ffd-WIN', '32cd32-WIN', 'ffff00-IMM', 'ffc0cb-LOW', '32cd32-WIN', 'ffff00-IMM', '959ffd-WIN', 'white-IN', '959ffd-WIN', 'white-IN', 'white-IN', 'ffc0cb-LOW', 'white-IN', 'dc143c-ELIM']\n",
      "Jamyly:  ['ff35f3-LOW', 'white-IN', '959ffd-WIN', 'white-IN', 'white-IN', '959ffd-WIN', 'ff35f3-LOW', 'white-IN', '959ffd-WIN', 'ffa500-LOW', '959ffd-WIN', '32cd32-WIN', 'ffff00-IMM', 'dc143c-ELIM']\n",
      "Estefano:  ['white-IN', 'white-IN', '959ffd-WIN', 'white-IN', '32cd32-WIN', '6495ed-HIGH', 'white-IN', 'white-IN', '959ffd-WIN', '6495ed-HIGH', '32cd32-WIN', 'white-IN', 'dc143c-ELIM']\n",
      "Sandra:  ['white-IN', 'ffa500-LOW', '6495ed-HIGH', 'white-IN', 'dc143c-ELIM', 'f0fff0-RET', 'ffc0cb-LOW', 'dc143c-ELIM']\n",
      "Martin:  ['6495ed-HIGH', 'ffff00-IMM', 'ffa500-LOW', 'white-IN', 'white-IN', '959ffd-WIN', 'white-IN', 'white-IN', '959ffd-WIN', 'dc143c-ELIM']\n",
      "Lucio:  ['white-IN', 'white-IN', 'ffe4e1-PT', '6495ed-HIGH', 'ffff00-IMM', 'ffe4e1-NPT', 'white-IN', '32cd32-WIN', 'd2b48c-WDR']\n",
      "Bianca:  ['6495ed-HIGH', 'ffff00-IMM', 'ffe4e1-PT', 'white-IN', 'white-IN', '32cd32-WIN', 'white-IN', 'dc143c-ELIM']\n",
      "Isabella:  ['white-IN', '32cd32-WIN', 'ffe4e1-PT', 'ff35f3-LOW', 'white-IN', 'dc143c-ELIM']\n",
      "Marli:  ['ffc0cb-LOW', 'dc143c-ELIM']\n",
      "Shlomi:  ['dc143c-ELIM']\n",
      "16\n",
      "['Elisa Fernandes', 'Helena Manosso†', 'Luis Lima', 'Mohamad Hindi Neto', 'Jaime Conceição', 'Cecilia Padilha', 'Flavio Takemoto', 'Jamyly Monard', 'Estefano Zaquini', 'Sandra Matarazzo', 'Martin Casilli', 'Lucio Manosso', 'Bianca Bertolaccini', 'Isabella Britto', 'Marli Rocha†', 'Shlomi Asaf']\n"
     ]
    }
   ],
   "source": [
    "r = requests.get(f'https://en.wikipedia.org/wiki/MasterChef_(Brazilian_season_1)')    # 7 seasons total\n",
    "soup = BeautifulSoup(r.text, 'html.parser')\n",
    "tables = soup.find_all('table', 'wikitable')\n",
    "print(len(tables))\n",
    "if len(tables) == 5:\n",
    "    tables.pop(0)\n",
    "\n",
    "# print(tables[2])\n",
    "season = 1\n",
    "if season < 5:\n",
    "    legend_dict = get_legend(tables[2], season)\n",
    "else:\n",
    "    leg_tables = soup.find_all('table', 'multicol')\n",
    "    # print(leg_tables)\n",
    "    legend_dict = get_legend(leg_tables[0], season)\n",
    "# legend_dict = get_legend(tables[2], 5)\n",
    "# print(legend_dict)\n",
    "name_list = get_names(tables[0])\n",
    "# print(name_list)\n",
    "age_list = get_ages(tables[0])\n",
    "# print(age_list)\n",
    "home_list = get_homes(tables[0])\n",
    "# print(home_list)\n",
    "occ_list = get_occupations(tables[0])\n",
    "# print(occ_list)\n",
    "hist_list = get_evaluations(tables[1])\n",
    "# print(hist_list)\n",
    "print(len(hist_list))\n",
    "print(name_list)"
   ]
  },
  {
   "cell_type": "code",
   "execution_count": 128,
   "id": "a7028b24-28c6-472c-ae71-0f451829d68f",
   "metadata": {
    "scrolled": true
   },
   "outputs": [
    {
     "name": "stdout",
     "output_type": "stream",
     "text": [
      "1\n",
      "2\n",
      "3\n",
      "4\n",
      "5\n",
      "6\n",
      "7\n",
      "8\n",
      "9\n",
      "10\n"
     ]
    }
   ],
   "source": [
    "leg_list = []\n",
    "dta_list = []\n",
    "for season in range(1, 11):\n",
    "    print(season)\n",
    "    if season == 7:       # Skip season 7, it's wild man.\n",
    "        continue\n",
    "    r = requests.get(f'https://en.wikipedia.org/wiki/MasterChef_(Brazilian_season_{season})')    # 11 seasons total\n",
    "    soup = BeautifulSoup(r.text, 'html.parser')\n",
    "    tables = soup.find_all('table', 'wikitable')\n",
    "    if len(tables) == 5:\n",
    "        tables.pop(0)\n",
    "    name_list = get_names(tables[0])\n",
    "    age_list = get_ages(tables[0])\n",
    "    home_list = get_homes(tables[0])\n",
    "    occ_list = get_occupations(tables[0])\n",
    "    hist_list = get_evaluations(tables[1])\n",
    "    \n",
    "    for i in range(len(name_list)):\n",
    "        dta_list.append({'season':season, 'name': name_list[i], 'age': age_list[i], 'home':home_list[i], 'occupation':occ_list[i], 'evaluations':hist_list[i]})\n",
    "    \n",
    "    if season < 5:\n",
    "        legend_dict = get_legend(tables[2], season)\n",
    "    else:\n",
    "        leg_tables = soup.find_all('table', 'multicol')\n",
    "        legend_dict = get_legend(leg_tables[0], season)\n",
    "    leg_list.append({'season':season, 'legend':legend_dict})\n",
    "        \n",
    "# dta_list"
   ]
  },
  {
   "cell_type": "code",
   "execution_count": 129,
   "id": "51d6965a-e2b0-46d6-bcb9-42024227b308",
   "metadata": {},
   "outputs": [],
   "source": [
    "with open(\"masterchef_brazil.json\", \"w\") as fp:\n",
    "    json.dump(dta_list, fp)"
   ]
  },
  {
   "cell_type": "code",
   "execution_count": 130,
   "id": "327c32fb-7fde-4e97-a282-b8c148b07dbd",
   "metadata": {},
   "outputs": [],
   "source": [
    "with open(\"masterchef_brazil_legend.json\", \"w\") as fp:\n",
    "    json.dump(leg_list, fp)"
   ]
  },
  {
   "cell_type": "code",
   "execution_count": null,
   "id": "9ca1fc31-ea4b-4221-8b8a-b7169cc8edb8",
   "metadata": {},
   "outputs": [],
   "source": []
  }
 ],
 "metadata": {
  "kernelspec": {
   "display_name": "Python 3 (ipykernel)",
   "language": "python",
   "name": "python3"
  },
  "language_info": {
   "codemirror_mode": {
    "name": "ipython",
    "version": 3
   },
   "file_extension": ".py",
   "mimetype": "text/x-python",
   "name": "python",
   "nbconvert_exporter": "python",
   "pygments_lexer": "ipython3",
   "version": "3.10.11"
  }
 },
 "nbformat": 4,
 "nbformat_minor": 5
}
