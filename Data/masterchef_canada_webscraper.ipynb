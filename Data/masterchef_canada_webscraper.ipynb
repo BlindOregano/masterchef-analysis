{
 "cells": [
  {
   "cell_type": "code",
   "execution_count": 91,
   "id": "a122a74a-cdbe-409a-bb6e-63bd7c6f992a",
   "metadata": {},
   "outputs": [],
   "source": [
    "import pandas as pd\n",
    "import numpy as np\n",
    "from bs4 import BeautifulSoup\n",
    "import requests\n",
    "import re\n",
    "import json"
   ]
  },
  {
   "cell_type": "code",
   "execution_count": 92,
   "id": "50c02ee2-cb52-4c69-b578-d1bebdfc09cf",
   "metadata": {},
   "outputs": [],
   "source": [
    "def get_legend(soup: list) -> dict:\n",
    "    legend = soup.find_all('dl')\n",
    "    legend_items = legend[0].find_all('dd')\n",
    "    legend_dict = {}\n",
    "    for item in legend_items:\n",
    "        color = str(item).split('background-color:')[1].split(';')[0]\n",
    "        phrase = item.text.split('(')[1].split(')')\n",
    "        key = color + '-' + phrase[0].strip()\n",
    "        desc = phrase[1]\n",
    "        legend_dict[key] = desc.strip()\n",
    "    return legend_dict"
   ]
  },
  {
   "cell_type": "code",
   "execution_count": 93,
   "id": "16341c62-846c-4e69-8575-0c6e00f39305",
   "metadata": {},
   "outputs": [],
   "source": [
    "def get_names(people_table: list) -> list:\n",
    "    name_list = []\n",
    "    rows = people_table.find_all('tr')\n",
    "    for row in rows:\n",
    "        cells = row.find_all('td')\n",
    "        if len(cells) == 0:\n",
    "            continue\n",
    "        name = cells[0].text.replace('[', '').replace(']', '')\n",
    "        name = re.sub('\\d', '', name)\n",
    "        name_list.append(name.strip())\n",
    "    return name_list"
   ]
  },
  {
   "cell_type": "code",
   "execution_count": 94,
   "id": "5794a3d6-53c8-43d1-a35e-b9fbd57a0b7e",
   "metadata": {},
   "outputs": [],
   "source": [
    "def get_homes(people_table: list) -> list:\n",
    "    home_list = []\n",
    "    rows = people_table.find_all('tr')\n",
    "    for row in rows:\n",
    "        cells = row.find_all('td')\n",
    "        if len(cells) == 0:\n",
    "            continue\n",
    "        home = cells[2].text.strip()\n",
    "        home_list.append(home)\n",
    "    return home_list"
   ]
  },
  {
   "cell_type": "code",
   "execution_count": 95,
   "id": "c6b21afb-21e5-4c4a-b4c6-b7cc67d51a1e",
   "metadata": {},
   "outputs": [],
   "source": [
    "def get_ages(people_table: list) -> list:\n",
    "    age_list = []\n",
    "    rows = people_table.find_all('tr')\n",
    "    for row in rows:\n",
    "        cells = row.find_all('td')\n",
    "        if len(cells) == 0:\n",
    "            continue\n",
    "        # print(cells[1].text.strip())\n",
    "        age = int(cells[1].text.strip().split('-')[0])\n",
    "        age_list.append(age)\n",
    "    return age_list"
   ]
  },
  {
   "cell_type": "code",
   "execution_count": 96,
   "id": "6dd50f62-d92c-4387-841d-5fdd47c0ca8e",
   "metadata": {},
   "outputs": [],
   "source": [
    "def get_occupations(people_table: list) -> list:\n",
    "    occ_list = []\n",
    "    rows = people_table.find_all('tr')\n",
    "    for row in rows:\n",
    "        cells = row.find_all('td')\n",
    "        if len(cells) == 0:\n",
    "            continue\n",
    "        if people_table.find_all(\"tr\")[0].find_all(\"th\")[3].text.strip() == 'Previous Occupation':\n",
    "            occ = cells[4].text.strip()\n",
    "        else:\n",
    "            occ = cells[3].text.strip()\n",
    "        occ_list.append(occ)\n",
    "    return occ_list"
   ]
  },
  {
   "cell_type": "code",
   "execution_count": 97,
   "id": "d9be67fd-5df5-430a-a646-eba1fff8ac66",
   "metadata": {
    "scrolled": true
   },
   "outputs": [],
   "source": [
    "def get_evaluations(evaluation_table: list) -> list:\n",
    "    rows = evaluation_table.find_all('tr')\n",
    "    rowspan_outer = []\n",
    "    hist_list_outer = []\n",
    "    for row in rows:\n",
    "        hist_list = []\n",
    "        cells = row.find_all('td')\n",
    "        if len(cells) == 0:\n",
    "            continue\n",
    "        #print(cells)\n",
    "        is_chef = False\n",
    "        for name in name_list:\n",
    "            name_split = name.replace('\"', '').split(' ')\n",
    "            n_g = row.find_all('th')\n",
    "            if len(n_g) == 1:\n",
    "                test_name = n_g[0].text.strip().split(' ')[0]\n",
    "            elif len(n_g) == 2:\n",
    "                test_name = n_g[1].text.strip().split(' ')[0]\n",
    "            # print(name_split[0])\n",
    "            # print(cells)\n",
    "            # print(cells[0].text)\n",
    "           \n",
    "            # if cells[0].text.strip().split(' ')[0] in name_split:    # master chef usa (name)\n",
    "            #     is_chef = True\n",
    "            #     break\n",
    "            if test_name in name_split:     # masterchef canada(name)\n",
    "                is_chef = True\n",
    "                break\n",
    "        if not is_chef:\n",
    "            # print('Not chef')\n",
    "            continue\n",
    "        # c_name = cells[0].text.strip()      # masterchef usa\n",
    "        c_name = test_name    # masterchef canada\n",
    "        \n",
    "        for i, eval in enumerate(cells[0:]):   # usa start from 1, canada start from 0\n",
    "            # print(i, ' ', eval)\n",
    "            if eval.text.strip() == 'IN' and 'background' not in str(eval):\n",
    "                color = 'white'\n",
    "            elif 'darkgrey' in str(eval):\n",
    "                continue\n",
    "            elif ';' in str(eval):\n",
    "                # print(str(eval).lower().split('background:'))\n",
    "                color = str(eval).lower().split('background:')[1].split(';')[0]\n",
    "            else:\n",
    "                color = str(eval).lower().split('background:')[1].split('\"')[0]\n",
    "            phrase = eval.text.strip()\n",
    "            key = color + '-' + phrase \n",
    "            hist_list.append(key)\n",
    "            \n",
    "            if len(rowspan_outer) > 0:\n",
    "                #print(i, ' ', eval)\n",
    "                for j, span in enumerate(rowspan_outer):\n",
    "                    #print(j, ' ', span)\n",
    "                    if i+1 == span[0]:\n",
    "                        #print('MATCH')\n",
    "                        key = span[1]\n",
    "                        span[2] -= 1\n",
    "                        hist_list.append(key)\n",
    "                        #print(rowspan_outer)\n",
    "                        if span[2] == 0:\n",
    "                            rowspan_outer.pop(j)\n",
    "                        \n",
    "                        #print(rowspan_outer)\n",
    "            if 'rowspan=\"' in str(eval):\n",
    "                span = [i, key, int(str(eval).split('rowspan=\"')[1].split('\"')[0].strip())-1]\n",
    "                rowspan_outer.append(span)\n",
    "        #print(c_name + ': ', hist_list)\n",
    "        hist_list_outer.append(hist_list)\n",
    "    return hist_list_outer\n",
    "    "
   ]
  },
  {
   "cell_type": "code",
   "execution_count": 98,
   "id": "a7028b24-28c6-472c-ae71-0f451829d68f",
   "metadata": {
    "scrolled": true
   },
   "outputs": [
    {
     "name": "stdout",
     "output_type": "stream",
     "text": [
      "1\n",
      "2\n",
      "3\n",
      "4\n",
      "5\n",
      "6\n",
      "7\n"
     ]
    }
   ],
   "source": [
    "leg_list = []\n",
    "dta_list = []\n",
    "for season in range(1, 8):\n",
    "    print(season)\n",
    "    # r = requests.get(f'https://en.wikipedia.org/wiki/MasterChef_(American_season_{season})') # 13 seasons total\n",
    "    r = requests.get(f'https://en.wikipedia.org/wiki/MasterChef_Canada_(season_{season})')    # 7 seasons total\n",
    "    soup = BeautifulSoup(r.text, 'html.parser')\n",
    "    tables = soup.find_all('table', 'wikitable')\n",
    "    name_list = get_names(tables[0])\n",
    "    age_list = get_ages(tables[0])\n",
    "    home_list = get_homes(tables[0])\n",
    "    occ_list = get_occupations(tables[0])\n",
    "    hist_list = get_evaluations(tables[1])\n",
    "    \n",
    "    for i in range(len(name_list)):\n",
    "        dta_list.append({'season':season, 'name': name_list[i], 'age': age_list[i], 'home':home_list[i], 'occupation':occ_list[i], 'evaluations':hist_list[i]})\n",
    "    legend_dict = get_legend(soup=soup)\n",
    "    leg_list.append({'season':season, 'legend':legend_dict})\n",
    "        \n",
    "# dta_list"
   ]
  },
  {
   "cell_type": "code",
   "execution_count": 99,
   "id": "51d6965a-e2b0-46d6-bcb9-42024227b308",
   "metadata": {},
   "outputs": [],
   "source": [
    "with open(\"masterchef_canada.json\", \"w\") as fp:\n",
    "    json.dump(dta_list, fp)"
   ]
  },
  {
   "cell_type": "code",
   "execution_count": 100,
   "id": "327c32fb-7fde-4e97-a282-b8c148b07dbd",
   "metadata": {},
   "outputs": [],
   "source": [
    "with open(\"masterchef_canada_legends.json\", \"w\") as fp:\n",
    "    json.dump(leg_list, fp)"
   ]
  },
  {
   "cell_type": "code",
   "execution_count": null,
   "id": "9ca1fc31-ea4b-4221-8b8a-b7169cc8edb8",
   "metadata": {},
   "outputs": [],
   "source": []
  }
 ],
 "metadata": {
  "kernelspec": {
   "display_name": "Python 3 (ipykernel)",
   "language": "python",
   "name": "python3"
  },
  "language_info": {
   "codemirror_mode": {
    "name": "ipython",
    "version": 3
   },
   "file_extension": ".py",
   "mimetype": "text/x-python",
   "name": "python",
   "nbconvert_exporter": "python",
   "pygments_lexer": "ipython3",
   "version": "3.9.0"
  }
 },
 "nbformat": 4,
 "nbformat_minor": 5
}
