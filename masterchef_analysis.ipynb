{
 "cells": [
  {
   "cell_type": "code",
   "execution_count": null,
   "metadata": {},
   "outputs": [],
   "source": [
    "from sklearn.naive_bayes import CategoricalNB\n",
    "import json\n",
    "import seaborn as sns\n",
    "import pandas as pd\n"
   ]
  },
  {
   "cell_type": "code",
   "execution_count": null,
   "metadata": {},
   "outputs": [],
   "source": [
    "with open('masterchef_data_cleaned.json', 'r') as file:\n",
    "    data = json.load(file)"
   ]
  },
  {
   "cell_type": "code",
   "execution_count": null,
   "metadata": {},
   "outputs": [],
   "source": [
    "data.keys()"
   ]
  },
  {
   "cell_type": "code",
   "execution_count": null,
   "metadata": {},
   "outputs": [],
   "source": [
    "# data.keys()\n",
    "US = pd.DataFrame(data['United States'])\n",
    "Canada = pd.DataFrame(data['Canada'])\n",
    "Brazil = pd.DataFrame(data['Brazil'])\n"
   ]
  },
  {
   "cell_type": "code",
   "execution_count": null,
   "metadata": {},
   "outputs": [],
   "source": [
    "df = pd.concat([US, Canada, Brazil])"
   ]
  },
  {
   "cell_type": "code",
   "execution_count": null,
   "metadata": {},
   "outputs": [],
   "source": [
    "def winner(row):\n",
    "    return row['evaluations'][-1] == 'WINNER'\n",
    "\n"
   ]
  },
  {
   "cell_type": "code",
   "execution_count": null,
   "metadata": {},
   "outputs": [],
   "source": [
    "pd.DataFrame(df[(df['season'] == 1) & (df['nation'] == 'United States')]['evaluations'])\n",
    "new_df = df.copy()\n",
    "new_df"
   ]
  },
  {
   "cell_type": "code",
   "execution_count": null,
   "metadata": {},
   "outputs": [],
   "source": [
    "new_df['won'] = new_df.apply(winner,axis=1)"
   ]
  },
  {
   "cell_type": "code",
   "execution_count": null,
   "metadata": {},
   "outputs": [],
   "source": [
    "winners = new_df[new_df['won']]\n",
    "\n",
    "# Function to generate season ID\n",
    "def generate_season_id(row):\n",
    "    country_id = {\"USA\": 1, \"Canada\": 2, \"Brazil\": 3}\n",
    "    \n",
    "    season_id = row['nation'] + str(row['season'])\n",
    "    \n",
    "    return season_id\n",
    "\n",
    "\n",
    "\n",
    "\n",
    "new_df['seasonID'] = new_df.apply(generate_season_id, axis=1)\n",
    "winners['seasonID'] = winners.apply(generate_season_id, axis=1)\n",
    "\n"
   ]
  },
  {
   "cell_type": "code",
   "execution_count": null,
   "metadata": {},
   "outputs": [],
   "source": [
    "new_df['seasonID'].unique()"
   ]
  },
  {
   "cell_type": "code",
   "execution_count": null,
   "metadata": {},
   "outputs": [],
   "source": [
    "winners['seasonID'].unique()"
   ]
  },
  {
   "cell_type": "code",
   "execution_count": null,
   "metadata": {},
   "outputs": [],
   "source": [
    "new_df['age'].mean()"
   ]
  },
  {
   "cell_type": "code",
   "execution_count": null,
   "metadata": {},
   "outputs": [],
   "source": [
    "winners['age'].mean()"
   ]
  },
  {
   "cell_type": "code",
   "execution_count": null,
   "metadata": {},
   "outputs": [],
   "source": [
    "new_df"
   ]
  },
  {
   "cell_type": "code",
   "execution_count": null,
   "metadata": {},
   "outputs": [],
   "source": [
    "# get number of evaluations in each season\n",
    "\n",
    "def num_episodes(row, evaluations):\n",
    "    if row['won']:\n",
    "        evaluations[row['seasonID']] = len(row['evaluations'])\n",
    "\n",
    "evaluations = {}\n",
    "for i, row in new_df.iterrows():\n",
    "    num_episodes(row, evaluations)\n",
    "print(evaluations)\n",
    "\n",
    "\n",
    "def add_num_eval(row, evaluations):\n",
    "    return evaluations[row['seasonID']]\n",
    "\n",
    "new_df['numEval'] = new_df.apply(add_num_eval, args=(evaluations,), axis=1)\n",
    "new_df\n",
    "\n"
   ]
  },
  {
   "cell_type": "markdown",
   "metadata": {},
   "source": [
    "could use a column saying what place everyone took"
   ]
  },
  {
   "cell_type": "code",
   "execution_count": null,
   "metadata": {},
   "outputs": [],
   "source": [
    "# Some facts about the winners\n",
    "import numpy as np\n",
    "import matplotlib.pyplot as plt\n",
    "\n",
    "def eval_count(df):\n",
    "    a = []\n",
    "    for item in df['evaluations']:\n",
    "        a = np.concatenate([a, item])\n",
    "        \n",
    "    values = np.unique(a, return_counts=True)\n",
    "\n",
    "    values = pd.DataFrame({'counts':values[1], 'values': values[0]})\n",
    "    return values\n",
    "winner_values = eval_count(winners)\n",
    "all_values = eval_count(new_df)\n",
    "\n",
    "sns.barplot(data=winner_values, x='counts', y='values', hue='values', legend=None)\n",
    "plt.show()\n",
    "sns.barplot(data=all_values, x='counts', y='values', hue='values', legend=None)"
   ]
  },
  {
   "cell_type": "markdown",
   "metadata": {},
   "source": [
    "We want to predict who will win on after each new evaluation. "
   ]
  }
 ],
 "metadata": {
  "kernelspec": {
   "display_name": "Python 3",
   "language": "python",
   "name": "python3"
  },
  "language_info": {
   "codemirror_mode": {
    "name": "ipython",
    "version": 3
   },
   "file_extension": ".py",
   "mimetype": "text/x-python",
   "name": "python",
   "nbconvert_exporter": "python",
   "pygments_lexer": "ipython3",
   "version": "3.10.11"
  }
 },
 "nbformat": 4,
 "nbformat_minor": 2
}
